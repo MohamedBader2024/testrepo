{
  "metadata": {
    "kernelspec": {
      "name": "python",
      "display_name": "Python (Pyodide)",
      "language": "python"
    },
    "language_info": {
      "codemirror_mode": {
        "name": "python",
        "version": 3
      },
      "file_extension": ".py",
      "mimetype": "text/x-python",
      "name": "python",
      "nbconvert_exporter": "python",
      "pygments_lexer": "ipython3",
      "version": "3.8"
    }
  },
  "nbformat_minor": 5,
  "nbformat": 4,
  "cells": [
    {
      "id": "bae57a7e-f6da-457e-bdaf-c2e51291f6aa",
      "cell_type": "markdown",
      "source": "# Data Science Tools and Ecosystem",
      "metadata": {}
    },
    {
      "id": "0fb80c8f-0a2f-4db5-a44f-d89e736ee60c",
      "cell_type": "markdown",
      "source": "In this notebook, Data Science Tools and Ecosystem are summarised ",
      "metadata": {}
    },
    {
      "id": "6c469de4-b604-40ea-b180-fefff3a4d3af",
      "cell_type": "markdown",
      "source": "__Objectives__\n- popular languages for Data Science\n- some of the commonly used libraries used by Data Scientistes\n- Data Science Tools\n- Arithmetic expressions",
      "metadata": {}
    },
    {
      "id": "ffbe1ace-5649-45f8-ae8d-294245cd11e6",
      "cell_type": "markdown",
      "source": "some of the popular programming languages that Data Scientists use are:\n1. Python\n2. R\n3. SQL\n4. Julia\n5. C++\n6. Scala",
      "metadata": {}
    },
    {
      "id": "a5b92bec-012b-4fb8-aae6-0936c5739af9",
      "cell_type": "markdown",
      "source": "some of the commonly used libraries used by Data Scientists include:\n1. Pandas\n2. Numpy\n3. Matplotlib\n4. Seaborn\n5. Scikit-learn",
      "metadata": {}
    },
    {
      "id": "53e73700-cb4c-41c0-8c78-057db1282624",
      "cell_type": "markdown",
      "source": "| Data Science Tools|\n| ------ |\n|  MySQL |\n| Apache AirFlow |\n| Apache Superset|\n| Seldon |",
      "metadata": {}
    },
    {
      "id": "3d4e7768-fb18-4d2b-8731-fb9a87903fb3",
      "cell_type": "markdown",
      "source": "### Below are a few exampls of evaluating arithmetic expressions in Python. ",
      "metadata": {}
    },
    {
      "id": "85c05b20-58d5-46b1-901b-5973a768b861",
      "cell_type": "code",
      "source": "# This a simple arithmetic expression to multiply then add integers \nprint((3*4)+5)",
      "metadata": {
        "trusted": true
      },
      "outputs": [
        {
          "name": "stdout",
          "output_type": "stream",
          "text": "17\n"
        }
      ],
      "execution_count": 1
    },
    {
      "id": "90b94144-1b62-4db3-8d07-a8e360c16299",
      "cell_type": "code",
      "source": "# This will convert 200 minutes to hours by divding by 60 \nminutes = 200\nhours = minutes / 60\nprint(hours)",
      "metadata": {
        "trusted": true
      },
      "outputs": [
        {
          "name": "stdout",
          "output_type": "stream",
          "text": "3.3333333333333335\n"
        }
      ],
      "execution_count": 2
    },
    {
      "id": "dce24cdb-9f82-496c-87a7-01ccadaab421",
      "cell_type": "markdown",
      "source": "## Author\nMohamed Badereldien ",
      "metadata": {}
    }
  ]
}